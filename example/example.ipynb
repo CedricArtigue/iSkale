{
 "cells": [
  {
   "cell_type": "code",
   "execution_count": 13,
   "metadata": {
    "collapsed": false,
    "scrolled": false
   },
   "outputs": [],
   "source": [
    "global.sc = require('skale-engine').context();\n",
    "global.Plot = require('plotly-notebook-js');\n",
    "\n",
    "global.CSVDataFrame = require('./CSVDataFrame.js');\n",
    "global.StandardScaler = require('skale-ml').StandardScaler;\n",
    "global.LogisticRegressionWithSGD = require('skale-ml').LogisticRegressionWithSGD;\n",
    "global.BinaryClassificationMetrics = require('skale-ml').BinaryClassificationMetrics;"
   ]
  },
  {
   "cell_type": "code",
   "execution_count": 14,
   "metadata": {
    "collapsed": false
   },
   "outputs": [
    {
     "data": {
      "text/html": [
       "<style>table#t01 {width: 100%; background-color: #f1f1c1;}\n",
       "table#t01 tr:nth-child(even) {background-color: #f2f2f3;}\n",
       "table#t01 tr:nth-child(odd) {background-color: #fff;}\n",
       "table#t01 th {color: white;background-color: #44496e;}\n",
       "</style><table id=\"t01\"><tr><th>Age</th><th>Workclass</th><th>fnlwgt</th><th>Education</th><th>Education-Num</th><th>Marital-Status</th><th>Occupation</th><th>Relationship</th><th>Race</th><th>Sex</th><th>Capital-Gain</th><th>Capital-Loss</th><th>Hours-per-week</th><th>Country</th><th>Target</th></tr><tr><td>39</td><td>State-gov</td><td>77516</td><td>Bachelors</td><td>13</td><td>Never-married</td><td>Adm-clerical</td><td>Not-in-family</td><td>White</td><td>Male</td><td>2174</td><td>0</td><td>40</td><td>United-States</td><td><=50K</td></tr><tr><td>50</td><td>Self-emp-not-inc</td><td>83311</td><td>Bachelors</td><td>13</td><td>Married-civ-spouse</td><td>Exec-managerial</td><td>Husband</td><td>White</td><td>Male</td><td>0</td><td>0</td><td>13</td><td>United-States</td><td><=50K</td></tr><tr><td>38</td><td>Private</td><td>215646</td><td>HS-grad</td><td>9</td><td>Divorced</td><td>Handlers-cleaners</td><td>Not-in-family</td><td>White</td><td>Male</td><td>0</td><td>0</td><td>40</td><td>United-States</td><td><=50K</td></tr><tr><td>53</td><td>Private</td><td>234721</td><td>11th</td><td>7</td><td>Married-civ-spouse</td><td>Handlers-cleaners</td><td>Husband</td><td>Black</td><td>Male</td><td>0</td><td>0</td><td>40</td><td>United-States</td><td><=50K</td></tr><tr><td>28</td><td>Private</td><td>338409</td><td>Bachelors</td><td>13</td><td>Married-civ-spouse</td><td>Prof-specialty</td><td>Wife</td><td>Black</td><td>Female</td><td>0</td><td>0</td><td>40</td><td>Cuba</td><td><=50K</td></tr></table>"
      ]
     },
     "execution_count": 14,
     "metadata": {},
     "output_type": "execute_result"
    }
   ],
   "source": [
    "global.columns = [\n",
    "    \"Age\", \"Workclass\", \"fnlwgt\", \"Education\", \"Education-Num\", \"Marital-Status\",\n",
    "    \"Occupation\", \"Relationship\", \"Race\", \"Sex\", \"Capital-Gain\", \"Capital-Loss\",\n",
    "    \"Hours-per-week\", \"Country\", \"Target\"\n",
    "];\n",
    "global.df = new CSVDataFrame(sc, columns, 'adult.data', ',', '?');\n",
    "$$html$$ = yield df.printHTML(5);"
   ]
  },
  {
   "cell_type": "code",
   "execution_count": 15,
   "metadata": {
    "collapsed": false
   },
   "outputs": [
    {
     "data": {
      "text/html": [
       "<div class='plotly-plot'><div id='notebook-plot-1463403374326'></div><script>function plot(){Plotly.plot('notebook-plot-1463403374326',[{\"x\":[0,1,2,3,4,5,6],\"y\":[14065,9726,4214,939,827,370,21],\"type\":\"bar\",\"name\":\"Marital-Status\",\"tickmode\":\"array\"}],{\"autotick\":false,\"title\":\"Marital-Status distribution\",\"xaxis\":{\"tickvals\":[0,1,2,3,4,5,6],\"ticktext\":[\"Married-civ-spouse\",\"Never-married\",\"Divorced\",\"Separated\",\"Widowed\",\"Married-spouse-absent\",\"Married-AF-spouse\"]}});}if(window.Plotly){plot();}else if(!window.require){var head = document.head || document.getElementsByTagName('head')[0];var s = document.createElement('script');s.src = 'https://cdn.plot.ly/plotly-latest.min.js';s.type = 'text/javascript';s.async = false;s.onreadystatechange = s.onload = plot;head.appendChild(s);}else{require(['/notebooks/node_modules/plotly-notebook-js/build/plotly.min.js'], function(Plotly){window.Plotly = Plotly;plot();});}</script></div>"
      ]
     },
     "execution_count": 15,
     "metadata": {},
     "output_type": "execute_result"
    }
   ],
   "source": [
    "$$html$$ = yield df.plotDistribution(\"Marital-Status\");"
   ]
  },
  {
   "cell_type": "code",
   "execution_count": 16,
   "metadata": {
    "collapsed": false
   },
   "outputs": [
    {
     "data": {
      "text/html": [
       "<style>table#t01 {width: 100%; background-color: #f1f1c1;}\n",
       "table#t01 tr:nth-child(even) {background-color: #f2f2f3;}\n",
       "table#t01 tr:nth-child(odd) {background-color: #fff;}\n",
       "table#t01 th {color: white;background-color: #44496e;}\n",
       "</style><table id=\"t01\"><tr><th>Age</th><th>Workclass</th><th>fnlwgt</th><th>Education</th><th>Education-Num</th><th>Marital-Status</th><th>Occupation</th><th>Relationship</th><th>Race</th><th>Sex</th><th>Capital-Gain</th><th>Capital-Loss</th><th>Hours-per-week</th><th>Country</th><th>Target</th></tr><tr><td>39</td><td>0</td><td>77516</td><td>0</td><td>13</td><td>0</td><td>0</td><td>0</td><td>0</td><td>0</td><td>2174</td><td>0</td><td>40</td><td>0</td><td>0</td></tr><tr><td>50</td><td>1</td><td>83311</td><td>0</td><td>13</td><td>1</td><td>1</td><td>1</td><td>0</td><td>0</td><td>0</td><td>0</td><td>13</td><td>0</td><td>0</td></tr><tr><td>38</td><td>2</td><td>215646</td><td>1</td><td>9</td><td>2</td><td>2</td><td>0</td><td>0</td><td>0</td><td>0</td><td>0</td><td>40</td><td>0</td><td>0</td></tr><tr><td>53</td><td>2</td><td>234721</td><td>2</td><td>7</td><td>1</td><td>2</td><td>1</td><td>1</td><td>0</td><td>0</td><td>0</td><td>40</td><td>0</td><td>0</td></tr><tr><td>28</td><td>2</td><td>338409</td><td>0</td><td>13</td><td>1</td><td>3</td><td>2</td><td>1</td><td>1</td><td>0</td><td>0</td><td>40</td><td>1</td><td>0</td></tr><tr><td>37</td><td>2</td><td>284582</td><td>3</td><td>14</td><td>1</td><td>1</td><td>2</td><td>0</td><td>1</td><td>0</td><td>0</td><td>40</td><td>0</td><td>0</td></tr><tr><td>49</td><td>2</td><td>160187</td><td>4</td><td>5</td><td>3</td><td>4</td><td>0</td><td>1</td><td>1</td><td>0</td><td>0</td><td>16</td><td>2</td><td>0</td></tr><tr><td>52</td><td>1</td><td>209642</td><td>1</td><td>9</td><td>1</td><td>1</td><td>1</td><td>0</td><td>0</td><td>0</td><td>0</td><td>45</td><td>0</td><td>1</td></tr><tr><td>31</td><td>2</td><td>45781</td><td>3</td><td>14</td><td>0</td><td>3</td><td>0</td><td>0</td><td>1</td><td>14084</td><td>0</td><td>50</td><td>0</td><td>1</td></tr><tr><td>42</td><td>2</td><td>159449</td><td>0</td><td>13</td><td>1</td><td>1</td><td>1</td><td>0</td><td>0</td><td>5178</td><td>0</td><td>40</td><td>0</td><td>1</td></tr></table>"
      ]
     },
     "execution_count": 16,
     "metadata": {},
     "output_type": "execute_result"
    }
   ],
   "source": [
    "global.edf = df.number_encode_features();\n",
    "$$html$$ = yield edf.printHTML(10);"
   ]
  },
  {
   "cell_type": "code",
   "execution_count": 17,
   "metadata": {
    "collapsed": false
   },
   "outputs": [
    {
     "data": {
      "text/html": [
       "<style>table#t01 {width: 100%; background-color: #f1f1c1;}\n",
       "table#t01 tr:nth-child(even) {background-color: #f2f2f3;}\n",
       "table#t01 tr:nth-child(odd) {background-color: #fff;}\n",
       "table#t01 th {color: white;background-color: #44496e;}\n",
       "</style><table id=\"t01\"><tr><th>Education</th><th>Education-Num</th></tr><tr><td>Bachelors</td><td>13</td></tr><tr><td>Bachelors</td><td>13</td></tr><tr><td>HS-grad</td><td>9</td></tr><tr><td>11th</td><td>7</td></tr><tr><td>Bachelors</td><td>13</td></tr></table>"
      ]
     },
     "execution_count": 17,
     "metadata": {},
     "output_type": "execute_result"
    }
   ],
   "source": [
    "$$html$$ = yield df.select([\"Education\", \"Education-Num\"]).printHTML(5);"
   ]
  },
  {
   "cell_type": "code",
   "execution_count": 18,
   "metadata": {
    "collapsed": false
   },
   "outputs": [
    {
     "data": {
      "text/html": [
       "<style>table#t01 {width: 100%; background-color: #f1f1c1;}\n",
       "table#t01 tr:nth-child(even) {background-color: #f2f2f3;}\n",
       "table#t01 tr:nth-child(odd) {background-color: #fff;}\n",
       "table#t01 th {color: white;background-color: #44496e;}\n",
       "</style><table id=\"t01\"><tr><th>Age</th><th>Workclass</th><th>fnlwgt</th><th>Education-Num</th><th>Marital-Status</th><th>Occupation</th><th>Relationship</th><th>Race</th><th>Sex</th><th>Capital-Gain</th><th>Capital-Loss</th><th>Hours-per-week</th><th>Country</th><th>Target</th></tr><tr><td>39</td><td>0</td><td>77516</td><td>13</td><td>0</td><td>0</td><td>0</td><td>0</td><td>0</td><td>2174</td><td>0</td><td>40</td><td>0</td><td>0</td></tr><tr><td>50</td><td>1</td><td>83311</td><td>13</td><td>1</td><td>1</td><td>1</td><td>0</td><td>0</td><td>0</td><td>0</td><td>13</td><td>0</td><td>0</td></tr><tr><td>38</td><td>2</td><td>215646</td><td>9</td><td>2</td><td>2</td><td>0</td><td>0</td><td>0</td><td>0</td><td>0</td><td>40</td><td>0</td><td>0</td></tr><tr><td>53</td><td>2</td><td>234721</td><td>7</td><td>1</td><td>2</td><td>1</td><td>1</td><td>0</td><td>0</td><td>0</td><td>40</td><td>0</td><td>0</td></tr><tr><td>28</td><td>2</td><td>338409</td><td>13</td><td>1</td><td>3</td><td>2</td><td>1</td><td>1</td><td>0</td><td>0</td><td>40</td><td>1</td><td>0</td></tr></table>"
      ]
     },
     "execution_count": 18,
     "metadata": {},
     "output_type": "execute_result"
    }
   ],
   "source": [
    "edf = edf.drop([\"Education\"]);\n",
    "$$html$$ = yield edf.printHTML(5);"
   ]
  },
  {
   "cell_type": "code",
   "execution_count": 19,
   "metadata": {
    "collapsed": false
   },
   "outputs": [
    {
     "data": {
      "text/html": [
       "<style>table#t01 {width: 100%; background-color: #f1f1c1;}\n",
       "table#t01 tr:nth-child(even) {background-color: #f2f2f3;}\n",
       "table#t01 tr:nth-child(odd) {background-color: #fff;}\n",
       "table#t01 th {color: white;background-color: #44496e;}\n",
       "</style><table id=\"t01\"><tr><th>Sex</th><th>Relationship</th></tr><tr><td>Male</td><td>Not-in-family</td></tr><tr><td>Male</td><td>Husband</td></tr><tr><td>Male</td><td>Not-in-family</td></tr><tr><td>Male</td><td>Husband</td></tr><tr><td>Female</td><td>Wife</td></tr></table>"
      ]
     },
     "execution_count": 19,
     "metadata": {},
     "output_type": "execute_result"
    }
   ],
   "source": [
    "$$html$$ = yield df.select([\"Sex\", \"Relationship\"]).printHTML(5);"
   ]
  },
  {
   "cell_type": "code",
   "execution_count": 20,
   "metadata": {
    "collapsed": true
   },
   "outputs": [],
   "source": [
    "global.training_set = edf.toLabeledPoint(\"Target\", [\"*\"]);"
   ]
  },
  {
   "cell_type": "code",
   "execution_count": 21,
   "metadata": {
    "collapsed": false
   },
   "outputs": [],
   "source": [
    "global.scaler = new StandardScaler();\n",
    "yield scaler.fit(training_set.map(p => p[1]));\n",
    "global.training_set_std = training_set\n",
    "    .map((p, scaler) => [p[0], scaler.transform(p[1])], scaler)\n",
    "    .persist();"
   ]
  },
  {
   "cell_type": "code",
   "execution_count": 22,
   "metadata": {
    "collapsed": false
   },
   "outputs": [],
   "source": [
    "global.nIterations = 10;\n",
    "global.parameters = {regParam: 0.01, stepSize: 1};\n",
    "global.model = new LogisticRegressionWithSGD(training_set_std, parameters);\n",
    "\n",
    "yield model.train(nIterations);"
   ]
  },
  {
   "cell_type": "code",
   "execution_count": 23,
   "metadata": {
    "collapsed": true
   },
   "outputs": [],
   "source": [
    "global.vdf = new CSVDataFrame(sc, columns, 'adult.test', ',', '?');\n",
    "global.evdf = vdf.drop([\"Education\"]).number_encode_features();\n",
    "global.test_set_std = evdf\n",
    "    .toLabeledPoint(\"Target\", [\"*\"])\n",
    "    .map((p, scaler) => [p[0], scaler.transform(p[1])], scaler);\n",
    "\n",
    "global.predictionAndLabels = test_set_std.map((p, model) => [model.predict(p[1]), p[0]], model);\n",
    "global.metrics = new BinaryClassificationMetrics(predictionAndLabels);\n",
    "\n",
    "global.roc = yield metrics.roc();"
   ]
  },
  {
   "cell_type": "code",
   "execution_count": 24,
   "metadata": {
    "collapsed": false
   },
   "outputs": [
    {
     "data": {
      "text/html": [
       "<div class='plotly-plot'><div id='notebook-plot-1463403383842'></div><script>function plot(){Plotly.plot('notebook-plot-1463403383842',[{\"x\":[\"1.00\",\"0.78\",\"0.59\",\"0.43\",\"0.31\",\"0.22\",\"0.15\",\"0.10\",\"0.05\",\"0.02\",0],\"y\":[\"1.00\",\"0.98\",\"0.94\",\"0.88\",\"0.80\",\"0.70\",\"0.59\",\"0.48\",\"0.34\",\"0.19\",0],\"type\":\"scatter\",\"name\":\"regParam = 0.01, stepSize = 1\"},{\"x\":[0,1],\"y\":[0,1],\"name\":\"Random\"}],{\"title\":\"Receiver Operating characteristic (ROC)\",\"xaxis\":{\"title\":\"False Positive Rate (Specifity)\"},\"yaxis\":{\"title\":\"True Positive Rate (Sensitivity)\"},\"autosize\":false,\"width\":800,\"height\":500});}if(window.Plotly){plot();}else if(!window.require){var head = document.head || document.getElementsByTagName('head')[0];var s = document.createElement('script');s.src = 'https://cdn.plot.ly/plotly-latest.min.js';s.type = 'text/javascript';s.async = false;s.onreadystatechange = s.onload = plot;head.appendChild(s);}else{require(['/notebooks/node_modules/plotly-notebook-js/build/plotly.min.js'], function(Plotly){window.Plotly = Plotly;plot();});}</script></div>"
      ]
     },
     "execution_count": 24,
     "metadata": {},
     "output_type": "execute_result"
    }
   ],
   "source": [
    "global.series = [{\n",
    "        x: [], y: [],\n",
    "        type: 'scatter',\n",
    "        name: 'regParam = ' + parameters.regParam + ', stepSize = ' + parameters.stepSize\n",
    "    }, {x: [0, 1], y: [0, 1], name: 'Random'}];\n",
    "for (var i in roc) {\n",
    "    series[0].x.push(roc[i][1][0].toFixed(2));\n",
    "    series[0].y.push(roc[i][1][1].toFixed(2));\n",
    "}\n",
    "series[0].x.push(0);\n",
    "series[0].y.push(0);\n",
    "\n",
    "$$html$$ = Plot.createPlot(series, {\n",
    "    title: 'Receiver Operating characteristic (ROC)',\n",
    "    xaxis: {title: 'False Positive Rate (Specifity)'},\n",
    "    yaxis: {title: 'True Positive Rate (Sensitivity)'},\n",
    "    autosize: false,\n",
    "    width: 800,\n",
    "    height: 500   \n",
    "}).render();"
   ]
  }
 ],
 "metadata": {
  "kernelspec": {
   "display_name": "Skale (Node.js)",
   "language": "javascript",
   "name": "iskale_kernelspec"
  },
  "language_info": {
   "file_extension": ".js",
   "mimetype": "application/javascript",
   "name": "javascript",
   "version": "4.1.2"
  }
 },
 "nbformat": 4,
 "nbformat_minor": 0
}
