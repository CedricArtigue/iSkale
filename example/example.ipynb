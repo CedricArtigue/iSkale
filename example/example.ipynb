{
 "cells": [
  {
   "cell_type": "code",
   "execution_count": 1,
   "metadata": {
    "collapsed": false,
    "scrolled": false
   },
   "outputs": [
    {
     "data": {
      "text/plain": [
       "undefined"
      ]
     },
     "execution_count": 1,
     "metadata": {},
     "output_type": "execute_result"
    }
   ],
   "source": [
    "var sc = require('skale-engine').context();\n",
    "var Plot = require('plotly-notebook-js');\n",
    "\n",
    "var CSVDataFrame = require('./CSVDataFrame.js');\n",
    "var StandardScaler = require('skale-ml').StandardScaler;\n",
    "var LogisticRegressionWithSGD = require('skale-ml').LogisticRegressionWithSGD;\n",
    "var BinaryClassificationMetrics = require('skale-ml').BinaryClassificationMetrics;"
   ]
  },
  {
   "cell_type": "code",
   "execution_count": 2,
   "metadata": {
    "collapsed": false
   },
   "outputs": [
    {
     "data": {
      "text/plain": [
       "undefined"
      ]
     },
     "execution_count": 2,
     "metadata": {},
     "output_type": "execute_result"
    }
   ],
   "source": [
    "var columns = [\n",
    "    \"Age\", \"Workclass\", \"fnlwgt\", \"Education\", \"Education-Num\", \"Marital-Status\",\n",
    "    \"Occupation\", \"Relationship\", \"Race\", \"Sex\", \"Capital-Gain\", \"Capital-Loss\",\n",
    "    \"Hours-per-week\", \"Country\", \"Target\"\n",
    "];\n",
    "//var df = new CSVDataFrame(sc, columns, 'adult.data', ',', '?');"
   ]
  }
 ],
 "metadata": {
  "kernelspec": {
   "display_name": "Skale (Node.js)",
   "language": "javascript",
   "name": "iskale_kernelspec"
  },
  "language_info": {
   "file_extension": ".js",
   "mimetype": "application/javascript",
   "name": "javascript",
   "version": "4.1.2"
  }
 },
 "nbformat": 4,
 "nbformat_minor": 0
}
